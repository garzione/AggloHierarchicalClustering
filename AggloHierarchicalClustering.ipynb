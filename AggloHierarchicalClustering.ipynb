{
 "cells": [
  {
   "cell_type": "code",
   "execution_count": 382,
   "metadata": {},
   "outputs": [],
   "source": [
    "#Justin Garzione\n",
    "#MIT License\n",
    "#Agglomerative Hierarchical Clustering"
   ]
  },
  {
   "cell_type": "code",
   "execution_count": 383,
   "metadata": {},
   "outputs": [],
   "source": [
    "import math"
   ]
  },
  {
   "cell_type": "code",
   "execution_count": 384,
   "metadata": {},
   "outputs": [],
   "source": [
    "#DEBUG MODULE\n",
    "\n",
    "#Input 1\n",
    "x = open(\"input0.txt\", \"r\")\n",
    "x1 = open(\"output0.txt\", \"r\")\n",
    "\n",
    "a = open(\"input1.txt\", \"r\")\n",
    "a1 = open(\"output1.txt\", \"r\")\n",
    "\n",
    "#Input 2\n",
    "b = open(\"input2.txt\", \"r\")\n",
    "b1 = open(\"output2.txt\", \"r\")\n",
    "\n",
    "#Input 3\n",
    "c = open(\"input3.txt\", \"r\")\n",
    "c1 = open(\"output3.txt\", \"r\")\n",
    "\n",
    "#Input 4\n",
    "d = open(\"input4.txt\", \"r\")\n",
    "d1 = open(\"output4.txt\", \"r\")\n",
    "\n",
    "#Input 5\n",
    "e = open(\"input5.txt\", \"r\")\n",
    "e1 = open(\"output5.txt\", \"r\")\n"
   ]
  },
  {
   "cell_type": "code",
   "execution_count": 385,
   "metadata": {},
   "outputs": [],
   "source": [
    "def read_in(data):\n",
    "    outlist = list()\n",
    "    for line in data:\n",
    "        outlist.append(int(line.rstrip()))\n",
    "    return outlist"
   ]
  },
  {
   "cell_type": "code",
   "execution_count": 386,
   "metadata": {},
   "outputs": [],
   "source": [
    "def read_data(data):\n",
    "    database = dict()\n",
    "    count = 0\n",
    "    for line in data:\n",
    "        temp = line.strip('\\n').split(' ')\n",
    "        templist = [list(map(float,temp))]\n",
    "        database[f\"cluster{count}\"] = templist\n",
    "        count += 1\n",
    "    return database, count"
   ]
  },
  {
   "cell_type": "code",
   "execution_count": 387,
   "metadata": {},
   "outputs": [],
   "source": [
    "def sim(put):\n",
    "    if put == 0:\n",
    "        return(\"Single Link\")\n",
    "    if put == 1:\n",
    "        return(\"Complete Link\")\n",
    "    else:\n",
    "        return(\"Average Link\")"
   ]
  },
  {
   "cell_type": "code",
   "execution_count": 388,
   "metadata": {},
   "outputs": [],
   "source": [
    "def distance_calculator(clusters,cluster1,cluster2,database,M):\n",
    "    distances = list()\n",
    "    for coord1 in range(0,len(database[clusters[cluster1]])):\n",
    "        for coord2 in range(0,len(database[clusters[cluster2]])):\n",
    "            co1 = database[clusters[cluster1]][coord1]\n",
    "            co2 = database[clusters[cluster2]][coord2]\n",
    "            \n",
    "            distance = math.sqrt((co1[0] - co2[0])**2 + (co1[1] - co2[1])**2)\n",
    "            distances.append(distance)\n",
    "\n",
    "    if M == 0:\n",
    "        #return single link\n",
    "        ret_dist = min(distances)\n",
    "            \n",
    "    if M == 1:\n",
    "        #return complete link\n",
    "        ret_dist = max(distances)\n",
    "    \n",
    "    if M == 2:\n",
    "        ret_dist = sum(distances) / len(distances)\n",
    "        \n",
    "    return ([clusters[cluster1],clusters[cluster2],ret_dist])"
   ]
  },
  {
   "cell_type": "code",
   "execution_count": 389,
   "metadata": {},
   "outputs": [],
   "source": [
    "def ret_answer(database,database_copy, M, K, N):\n",
    "    minlist = list()\n",
    "    while len(database) != K:\n",
    "        distanceslist = list()\n",
    "        #Index of cluster one in dictionary database\n",
    "        for cluster1 in range(0,len(database)):\n",
    "            #Index of cluster two in dictionary database\n",
    "            for cluster2 in range(cluster1+1,len(database)):\n",
    "                #List of current key values to index\n",
    "                clusters = list(database.keys())\n",
    "                distance = distance_calculator(clusters,cluster1,cluster2,database,M)\n",
    "                distanceslist.append(distance)\n",
    "\n",
    "        #minn = 1000000\n",
    "        minn = sys.maxsize\n",
    "        for line in distanceslist:\n",
    "            if line[2] < minn:\n",
    "                minn = line[2]\n",
    "                minnline = line\n",
    "\n",
    "        elements_to_add = database.get(minnline[1])\n",
    "        cluster_keeping = database.get(minnline[0])\n",
    "\n",
    "\n",
    "        for elements in elements_to_add:\n",
    "            cluster_keeping.append(elements)\n",
    "\n",
    "\n",
    "        database[minnline[0]] = cluster_keeping\n",
    "        database.pop(minnline[1])\n",
    "\n",
    "\n",
    "    num_cord = 0\n",
    "    ret_list = list()\n",
    "    for og_cord in database_copy.keys():\n",
    "        for new_cord in database.keys():\n",
    "            for element in database[new_cord]:\n",
    "                if element == database_copy[og_cord][0]:\n",
    "                    ret_list.append(new_cord)\n",
    "\n",
    "\n",
    "\n",
    "    l_dict = dict(zip(set(ret_list), range(len(ret_list))))\n",
    "\n",
    "    answer = [l_dict[x] for x in ret_list]\n",
    "    return answer"
   ]
  },
  {
   "cell_type": "code",
   "execution_count": 390,
   "metadata": {},
   "outputs": [],
   "source": [
    "def get_vals(database):\n",
    "    lis = database['cluster0']\n",
    "    N, K, M = lis[0]\n",
    "    database.pop('cluster0')\n",
    "    typ = sim(M)\n",
    "    return database,database.copy(),typ, M, K, N\n",
    "    "
   ]
  },
  {
   "cell_type": "code",
   "execution_count": 391,
   "metadata": {},
   "outputs": [],
   "source": [
    "def normalize_lists(lis1,lis2):\n",
    "    lis1_map = dict()\n",
    "    lis2_map = dict()\n",
    "    normalize_lis1 = list()\n",
    "    normalize_lis2 = list()\n",
    "    count = 0\n",
    "    for element in lis1:\n",
    "        if element not in lis1_map.keys():\n",
    "            lis1_map[element] = count\n",
    "            count+=1\n",
    "        normalize_lis1.append(lis1_map[element])\n",
    "    count = 0\n",
    "    for element in lis2:\n",
    "        if element not in lis2_map.keys():\n",
    "            lis2_map[element] = count\n",
    "            count+=1\n",
    "        normalize_lis2.append(lis2_map[element])\n",
    "        \n",
    "    return normalize_lis1, normalize_lis2"
   ]
  },
  {
   "cell_type": "code",
   "execution_count": 392,
   "metadata": {},
   "outputs": [
    {
     "name": "stdout",
     "output_type": "stream",
     "text": [
      "CPU times: user 7 µs, sys: 1 µs, total: 8 µs\n",
      "Wall time: 9.78 µs\n"
     ]
    }
   ],
   "source": [
    "%%time\n",
    "def main():\n",
    "    database, count = read_data(e) #MODIFY ARG\n",
    "    database, database_copy, typ, M, K, N = get_vals(database)\n",
    "    model_answer = ret_answer(database, database_copy, M, K, N)\n",
    "    label_answer = read_in(e1) #MODIFY ARG\n",
    "    model_norm, label_norm = normalize_lists(model_answer,label_answer)\n",
    "    print(f\"Using type: {typ}...\\n\")\n",
    "    print(f\"Model Returned (Normalized): {model_norm}\\n\")\n",
    "    print(f\"Label Returned (Normalized): {label_norm}\\n\")\n",
    "    print(f\"Equality is: {model_norm == label_norm}\")\n",
    "    "
   ]
  },
  {
   "cell_type": "code",
   "execution_count": 393,
   "metadata": {},
   "outputs": [
    {
     "name": "stdout",
     "output_type": "stream",
     "text": [
      "Using type: Average Link...\n",
      "\n",
      "Model Returned (Normalized): [0, 0, 1, 1, 0, 1, 1, 0, 0, 0, 0, 0, 1, 1, 0, 1, 1, 0, 0, 0, 0, 0, 0, 1, 0, 0, 1, 1, 0, 0, 1, 0, 1, 0, 0, 1, 0, 1, 1, 0, 1, 0, 1, 0, 0, 0, 1, 1, 0, 0, 0, 1, 1, 0, 1, 0, 1, 0, 1, 0, 0, 1, 0, 0, 0, 1, 1, 1, 0, 0, 0, 0, 0, 1, 1, 1, 0, 1, 0, 0, 0, 0, 0, 0, 1, 1, 0, 0, 0, 0, 0, 0, 0, 1, 1, 1, 0, 1, 0, 1]\n",
      "\n",
      "Label Returned (Normalized): [0, 0, 1, 1, 0, 1, 1, 0, 0, 0, 0, 0, 1, 1, 0, 1, 1, 0, 0, 0, 0, 0, 0, 1, 0, 0, 1, 1, 0, 0, 1, 0, 1, 0, 0, 1, 0, 1, 1, 0, 1, 0, 1, 0, 0, 0, 1, 1, 0, 0, 0, 1, 1, 0, 1, 0, 1, 0, 1, 0, 0, 1, 0, 0, 0, 1, 1, 1, 0, 0, 0, 0, 0, 1, 1, 1, 0, 1, 0, 0, 0, 0, 0, 0, 1, 1, 0, 0, 0, 0, 0, 0, 0, 1, 1, 1, 0, 1, 0, 1]\n",
      "\n",
      "Equality is: True\n"
     ]
    }
   ],
   "source": [
    "main()"
   ]
  }
 ],
 "metadata": {
  "kernelspec": {
   "display_name": "Python 3",
   "language": "python",
   "name": "python3"
  },
  "language_info": {
   "codemirror_mode": {
    "name": "ipython",
    "version": 3
   },
   "file_extension": ".py",
   "mimetype": "text/x-python",
   "name": "python",
   "nbconvert_exporter": "python",
   "pygments_lexer": "ipython3",
   "version": "3.8.5"
  }
 },
 "nbformat": 4,
 "nbformat_minor": 4
}
